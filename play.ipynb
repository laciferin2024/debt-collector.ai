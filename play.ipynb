{
 "cells": [
  {
   "cell_type": "code",
   "execution_count": null,
   "id": "a9977058",
   "metadata": {},
   "outputs": [],
   "source": [
    "from dotenv import  load_dotenv\n",
    "\n",
    "load_dotenv()"
   ]
  },
  {
   "cell_type": "code",
   "execution_count": 14,
   "id": "60075f9b",
   "metadata": {},
   "outputs": [
    {
     "ename": "ImportError",
     "evalue": "cannot import name 'EventType' from 'livekit.agents' (/Volumes/N/aiFame/debt-collector.ai/.venv/lib/python3.12/site-packages/livekit/agents/__init__.py)",
     "output_type": "error",
     "traceback": [
      "\u001b[31m---------------------------------------------------------------------------\u001b[39m",
      "\u001b[31mImportError\u001b[39m                               Traceback (most recent call last)",
      "\u001b[36mCell\u001b[39m\u001b[36m \u001b[39m\u001b[32mIn[14]\u001b[39m\u001b[32m, line 4\u001b[39m\n\u001b[32m      2\u001b[39m \u001b[38;5;28;01mfrom\u001b[39;00m\u001b[38;5;250m \u001b[39m\u001b[34;01mlivekit\u001b[39;00m\u001b[34;01m.\u001b[39;00m\u001b[34;01mplugins\u001b[39;00m\u001b[38;5;250m \u001b[39m\u001b[38;5;28;01mimport\u001b[39;00m deepgram, openai, cartesia, silero\n\u001b[32m      3\u001b[39m \u001b[38;5;28;01mfrom\u001b[39;00m\u001b[38;5;250m \u001b[39m\u001b[34;01mlivekit\u001b[39;00m\u001b[34;01m.\u001b[39;00m\u001b[34;01mplugins\u001b[39;00m\u001b[34;01m.\u001b[39;00m\u001b[34;01mturn_detector\u001b[39;00m\u001b[34;01m.\u001b[39;00m\u001b[34;01mmultilingual\u001b[39;00m\u001b[38;5;250m \u001b[39m\u001b[38;5;28;01mimport\u001b[39;00m MultilingualModel\n\u001b[32m----> \u001b[39m\u001b[32m4\u001b[39m \u001b[38;5;28;01mfrom\u001b[39;00m\u001b[38;5;250m \u001b[39m\u001b[34;01mlivekit\u001b[39;00m\u001b[34;01m.\u001b[39;00m\u001b[34;01magents\u001b[39;00m\u001b[38;5;250m \u001b[39m\u001b[38;5;28;01mimport\u001b[39;00m EventType\n\u001b[32m      6\u001b[39m \u001b[38;5;28;01masync\u001b[39;00m \u001b[38;5;28;01mdef\u001b[39;00m\u001b[38;5;250m \u001b[39m\u001b[34mentrypoint\u001b[39m(ctx: JobContext):  \u001b[38;5;66;03m# ctx is injected here\u001b[39;00m\n\u001b[32m      7\u001b[39m     session = AgentSession(\n\u001b[32m      8\u001b[39m         stt=deepgram.STT(model=\u001b[33m\"\u001b[39m\u001b[33mnova-3\u001b[39m\u001b[33m\"\u001b[39m),\n\u001b[32m      9\u001b[39m         llm=openai.LLM(model=\u001b[33m\"\u001b[39m\u001b[33mgpt-4o-mini\u001b[39m\u001b[33m\"\u001b[39m),\n\u001b[32m   (...)\u001b[39m\u001b[32m     12\u001b[39m         turn_detection=MultilingualModel()\n\u001b[32m     13\u001b[39m     )\n",
      "\u001b[31mImportError\u001b[39m: cannot import name 'EventType' from 'livekit.agents' (/Volumes/N/aiFame/debt-collector.ai/.venv/lib/python3.12/site-packages/livekit/agents/__init__.py)"
     ]
    }
   ],
   "source": [
    "from livekit.agents import AgentSession, Agent, JobContext\n",
    "from livekit.plugins import deepgram, openai, cartesia, silero\n",
    "from livekit.plugins.turn_detector.multilingual import MultilingualModel\n",
    "from livekit.agents import EventType\n",
    "\n",
    "async def entrypoint(ctx: JobContext):  # ctx is injected here\n",
    "    session = AgentSession(\n",
    "        stt=deepgram.STT(model=\"nova-3\"),\n",
    "        llm=openai.LLM(model=\"gpt-4o-mini\"),\n",
    "        tts=cartesia.TTS(),\n",
    "        vad=silero.VAD.load(),\n",
    "        turn_detection=MultilingualModel()\n",
    "    )\n",
    "    \n",
    "    await session.start(room=ctx.room, agent=Agent(\n",
    "        identity=\"voice-assistant\",\n",
    "        name=\"AI Assistant\",\n",
    "        instructions=\"Be helpful and friendly\"\n",
    "    ))\n",
    "\n",
    "    # Add conversation logic here\n",
    "    async for event in session:\n",
    "        if event.type == EventType.USER_MESSAGE:\n",
    "            await session.generate_reply(event.message.text)\n",
    "\n"
   ]
  },
  {
   "cell_type": "code",
   "execution_count": 9,
   "id": "d5f00cbf",
   "metadata": {},
   "outputs": [
    {
     "name": "stdout",
     "output_type": "stream",
     "text": [
      "LIVEKIT_URL wss://voiceai-vlfd6fkq.livekit.cloud\n"
     ]
    },
    {
     "name": "stderr",
     "output_type": "stream",
     "text": [
      "livekit::rtc_engine:450:livekit::rtc_engine - received session close: \"signal client closed: \\\"stream closed\\\"\" UnknownReason Resume\n"
     ]
    },
    {
     "ename": "NameError",
     "evalue": "name 'entrypoint' is not defined",
     "output_type": "error",
     "traceback": [
      "\u001b[31m---------------------------------------------------------------------------\u001b[39m",
      "\u001b[31mNameError\u001b[39m                                 Traceback (most recent call last)",
      "\u001b[36mCell\u001b[39m\u001b[36m \u001b[39m\u001b[32mIn[9]\u001b[39m\u001b[32m, line 29\u001b[39m\n\u001b[32m     26\u001b[39m     \u001b[38;5;28;01mawait\u001b[39;00m entrypoint(\u001b[38;5;28;01mNone\u001b[39;00m)\n\u001b[32m     28\u001b[39m \u001b[38;5;66;03m# Execute in Jupyter cell\u001b[39;00m\n\u001b[32m---> \u001b[39m\u001b[32m29\u001b[39m \u001b[38;5;28;01mawait\u001b[39;00m run_agent_in_notebook()\n",
      "\u001b[36mCell\u001b[39m\u001b[36m \u001b[39m\u001b[32mIn[9]\u001b[39m\u001b[32m, line 26\u001b[39m, in \u001b[36mrun_agent_in_notebook\u001b[39m\u001b[34m()\u001b[39m\n\u001b[32m     20\u001b[39m \u001b[38;5;28;01mawait\u001b[39;00m room.connect(LIVEKIT_URL, token.to_jwt())\n\u001b[32m     22\u001b[39m \u001b[38;5;66;03m# Create mock context\u001b[39;00m\n\u001b[32m     23\u001b[39m \u001b[38;5;66;03m# ctx = JobContext(room=room)\u001b[39;00m\n\u001b[32m     24\u001b[39m \n\u001b[32m     25\u001b[39m \u001b[38;5;66;03m# Run your agent\u001b[39;00m\n\u001b[32m---> \u001b[39m\u001b[32m26\u001b[39m \u001b[38;5;28;01mawait\u001b[39;00m \u001b[43mentrypoint\u001b[49m(\u001b[38;5;28;01mNone\u001b[39;00m)\n",
      "\u001b[31mNameError\u001b[39m: name 'entrypoint' is not defined"
     ]
    }
   ],
   "source": [
    "\n",
    "from livekit.agents import JobContext\n",
    "from livekit import api\n",
    "\n",
    "from config import LIVEKIT_API_KEY, LIVEKIT_URL, LIVEKIT_API_SECRET\n",
    "\n",
    "async def run_agent_in_notebook():\n",
    "    # Create a mock JobContext for testing\n",
    "    # You'll need to provide actual room connection details\n",
    "    from livekit import rtc\n",
    "    \n",
    "    room = rtc.Room()\n",
    "\n",
    "    print(\"LIVEKIT_URL\", LIVEKIT_URL)\n",
    "\n",
    "    token = api.AccessToken(api_key=LIVEKIT_API_KEY, api_secret=LIVEKIT_API_SECRET)\n",
    "    token.with_identity(\"user123\").with_grants(\n",
    "        api.VideoGrants(room_join=True, room=\"my-room\")\n",
    "    )\n",
    "\n",
    "    await room.connect(LIVEKIT_URL, token.to_jwt())\n",
    "    \n",
    "    # Create mock context\n",
    "    # ctx = JobContext(room=room)\n",
    "    \n",
    "    # Run your agent\n",
    "    await entrypoint(None)\n",
    "\n",
    "# Execute in Jupyter cell\n",
    "await run_agent_in_notebook()"
   ]
  },
  {
   "cell_type": "code",
   "execution_count": 6,
   "id": "2f7a50c9",
   "metadata": {},
   "outputs": [
    {
     "ename": "ImportError",
     "evalue": "cannot import name 'console' from 'livekit.agents' (/Volumes/N/aiFame/debt-collector.ai/.venv/lib/python3.12/site-packages/livekit/agents/__init__.py)",
     "output_type": "error",
     "traceback": [
      "\u001b[31m---------------------------------------------------------------------------\u001b[39m",
      "\u001b[31mImportError\u001b[39m                               Traceback (most recent call last)",
      "\u001b[36mCell\u001b[39m\u001b[36m \u001b[39m\u001b[32mIn[6]\u001b[39m\u001b[32m, line 1\u001b[39m\n\u001b[32m----> \u001b[39m\u001b[32m1\u001b[39m \u001b[38;5;28;01mfrom\u001b[39;00m\u001b[38;5;250m \u001b[39m\u001b[34;01mlivekit\u001b[39;00m\u001b[34;01m.\u001b[39;00m\u001b[34;01magents\u001b[39;00m\u001b[38;5;250m \u001b[39m\u001b[38;5;28;01mimport\u001b[39;00m console\n\u001b[32m      3\u001b[39m \u001b[38;5;28;01mawait\u001b[39;00m console.run_agent(entrypoint)\n",
      "\u001b[31mImportError\u001b[39m: cannot import name 'console' from 'livekit.agents' (/Volumes/N/aiFame/debt-collector.ai/.venv/lib/python3.12/site-packages/livekit/agents/__init__.py)"
     ]
    }
   ],
   "source": [
    "from livekit.agents.cli import console\n",
    "\n",
    "await console.run_agent(entrypoint)\n"
   ]
  },
  {
   "cell_type": "code",
   "execution_count": null,
   "id": "990f45c9",
   "metadata": {},
   "outputs": [],
   "source": []
  }
 ],
 "metadata": {
  "kernelspec": {
   "display_name": ".venv",
   "language": "python",
   "name": "python3"
  },
  "language_info": {
   "codemirror_mode": {
    "name": "ipython",
    "version": 3
   },
   "file_extension": ".py",
   "mimetype": "text/x-python",
   "name": "python",
   "nbconvert_exporter": "python",
   "pygments_lexer": "ipython3",
   "version": "3.12.9"
  }
 },
 "nbformat": 4,
 "nbformat_minor": 5
}
