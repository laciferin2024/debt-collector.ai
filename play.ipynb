{
 "cells": [
  {
   "cell_type": "code",
   "execution_count": 2,
   "id": "a9977058",
   "metadata": {},
   "outputs": [
    {
     "data": {
      "text/plain": [
       "True"
      ]
     },
     "execution_count": 2,
     "metadata": {},
     "output_type": "execute_result"
    }
   ],
   "source": [
    "from dotenv import  load_dotenv\n",
    "\n",
    "load_dotenv()"
   ]
  },
  {
   "cell_type": "code",
   "execution_count": 8,
   "id": "60075f9b",
   "metadata": {},
   "outputs": [
    {
     "ename": "ModuleNotFoundError",
     "evalue": "No module named 'livekit.plugins.turn_detector'",
     "output_type": "error",
     "traceback": [
      "\u001b[31m---------------------------------------------------------------------------\u001b[39m",
      "\u001b[31mModuleNotFoundError\u001b[39m                       Traceback (most recent call last)",
      "\u001b[36mCell\u001b[39m\u001b[36m \u001b[39m\u001b[32mIn[8]\u001b[39m\u001b[32m, line 4\u001b[39m\n\u001b[32m      2\u001b[39m \u001b[38;5;28;01mfrom\u001b[39;00m\u001b[38;5;250m \u001b[39m\u001b[34;01mlivekit\u001b[39;00m\u001b[34;01m.\u001b[39;00m\u001b[34;01magents\u001b[39;00m\u001b[38;5;250m \u001b[39m\u001b[38;5;28;01mimport\u001b[39;00m AgentSession, Agent\n\u001b[32m      3\u001b[39m \u001b[38;5;28;01mfrom\u001b[39;00m\u001b[38;5;250m \u001b[39m\u001b[34;01mlivekit\u001b[39;00m\u001b[34;01m.\u001b[39;00m\u001b[34;01mplugins\u001b[39;00m\u001b[38;5;250m \u001b[39m\u001b[38;5;28;01mimport\u001b[39;00m deepgram, openai, cartesia, silero\n\u001b[32m----> \u001b[39m\u001b[32m4\u001b[39m \u001b[38;5;28;01mfrom\u001b[39;00m\u001b[38;5;250m \u001b[39m\u001b[34;01mlivekit\u001b[39;00m\u001b[34;01m.\u001b[39;00m\u001b[34;01mplugins\u001b[39;00m\u001b[34;01m.\u001b[39;00m\u001b[34;01mturn_detector\u001b[39;00m\u001b[34;01m.\u001b[39;00m\u001b[34;01mmultilingual\u001b[39;00m\u001b[38;5;250m \u001b[39m\u001b[38;5;28;01mimport\u001b[39;00m MultilingualModel\n\u001b[32m      6\u001b[39m \u001b[38;5;129m@agents\u001b[39m.agent  \u001b[38;5;66;03m# Required decorator\u001b[39;00m\n\u001b[32m      7\u001b[39m \u001b[38;5;28;01masync\u001b[39;00m \u001b[38;5;28;01mdef\u001b[39;00m\u001b[38;5;250m \u001b[39m\u001b[34mentrypoint\u001b[39m(ctx: agents.JobContext):  \u001b[38;5;66;03m# ctx is injected here\u001b[39;00m\n\u001b[32m      8\u001b[39m     session = AgentSession(\n\u001b[32m      9\u001b[39m         stt=deepgram.STT(model=\u001b[33m\"\u001b[39m\u001b[33mnova-3\u001b[39m\u001b[33m\"\u001b[39m),\n\u001b[32m     10\u001b[39m         llm=openai.LLM(model=\u001b[33m\"\u001b[39m\u001b[33mgpt-4o-mini\u001b[39m\u001b[33m\"\u001b[39m),\n\u001b[32m   (...)\u001b[39m\u001b[32m     13\u001b[39m         turn_detection=MultilingualModel()\n\u001b[32m     14\u001b[39m     )\n",
      "\u001b[31mModuleNotFoundError\u001b[39m: No module named 'livekit.plugins.turn_detector'"
     ]
    }
   ],
   "source": [
    "from livekit import agents\n",
    "from livekit.agents import AgentSession, Agent\n",
    "from livekit.plugins import deepgram, openai, cartesia, silero\n",
    "from livekit.plugins.turn_detector.multilingual import MultilingualModel\n",
    "\n",
    "@agents.agent  # Required decorator\n",
    "async def entrypoint(ctx: agents.JobContext):  # ctx is injected here\n",
    "    session = AgentSession(\n",
    "        stt=deepgram.STT(model=\"nova-3\"),\n",
    "        llm=openai.LLM(model=\"gpt-4o-mini\"),\n",
    "        tts=cartesia.TTS(),\n",
    "        vad=silero.VAD.load(),\n",
    "        turn_detection=MultilingualModel()\n",
    "    )\n",
    "    \n",
    "    await session.start(room=ctx.room, agent=Agent(\n",
    "        identity=\"voice-assistant\",\n",
    "        name=\"AI Assistant\",\n",
    "        instructions=\"Be helpful and friendly\"\n",
    "    ))\n",
    "\n",
    "    # Add conversation logic here\n",
    "    async for event in session:\n",
    "        if event.type == agents.EventType.USER_MESSAGE:\n",
    "            await session.generate_reply(event.message.text)\n",
    "\n"
   ]
  },
  {
   "cell_type": "code",
   "execution_count": null,
   "id": "2f7a50c9",
   "metadata": {},
   "outputs": [],
   "source": []
  },
  {
   "cell_type": "code",
   "execution_count": null,
   "id": "990f45c9",
   "metadata": {},
   "outputs": [],
   "source": []
  }
 ],
 "metadata": {
  "kernelspec": {
   "display_name": ".venv",
   "language": "python",
   "name": "python3"
  },
  "language_info": {
   "codemirror_mode": {
    "name": "ipython",
    "version": 3
   },
   "file_extension": ".py",
   "mimetype": "text/x-python",
   "name": "python",
   "nbconvert_exporter": "python",
   "pygments_lexer": "ipython3",
   "version": "3.13.2"
  }
 },
 "nbformat": 4,
 "nbformat_minor": 5
}
